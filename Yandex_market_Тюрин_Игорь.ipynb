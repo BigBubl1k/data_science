{
  "nbformat": 4,
  "nbformat_minor": 0,
  "metadata": {
    "colab": {
      "name": "Yandex.market. Тюрин Игорь",
      "provenance": [],
      "collapsed_sections": [],
      "authorship_tag": "ABX9TyPRQ8pIZUH3wDlvtznY5jdp",
      "include_colab_link": true
    },
    "kernelspec": {
      "name": "python3",
      "display_name": "Python 3"
    },
    "language_info": {
      "name": "python"
    },
    "accelerator": "TPU"
  },
  "cells": [
    {
      "cell_type": "markdown",
      "metadata": {
        "id": "view-in-github",
        "colab_type": "text"
      },
      "source": [
        "<a href=\"https://colab.research.google.com/github/BigBubl1k/data_science/blob/main/Yandex_market_%D0%A2%D1%8E%D1%80%D0%B8%D0%BD_%D0%98%D0%B3%D0%BE%D1%80%D1%8C.ipynb\" target=\"_parent\"><img src=\"https://colab.research.google.com/assets/colab-badge.svg\" alt=\"Open In Colab\"/></a>"
      ]
    },
    {
      "cell_type": "markdown",
      "source": [
        "#импортируем библиотеки и загрузим данные в data_json"
      ],
      "metadata": {
        "id": "fUatswyn0vKP"
      }
    },
    {
      "cell_type": "code",
      "source": [
        "from urllib.request import urlopen\n",
        "import json\n",
        "url = 'http://5.181.109.139/marketer/api/data.json'\n",
        "response = urlopen(url)\n",
        "data_json = json.loads(response.read())\n"
      ],
      "metadata": {
        "id": "8mrBs43DeXlJ"
      },
      "execution_count": 74,
      "outputs": []
    },
    {
      "cell_type": "markdown",
      "source": [
        "#Проверим типы данных и посмотрим на их запись"
      ],
      "metadata": {
        "id": "VELDIHma03jm"
      }
    },
    {
      "cell_type": "code",
      "source": [
        "len(data_json)"
      ],
      "metadata": {
        "colab": {
          "base_uri": "https://localhost:8080/"
        },
        "id": "LgBE7-eheoXI",
        "outputId": "5898cc40-e953-48fe-c1e0-487d4c6d2b25"
      },
      "execution_count": 75,
      "outputs": [
        {
          "output_type": "execute_result",
          "data": {
            "text/plain": [
              "2"
            ]
          },
          "metadata": {},
          "execution_count": 75
        }
      ]
    },
    {
      "cell_type": "code",
      "source": [
        "type(data_json)"
      ],
      "metadata": {
        "colab": {
          "base_uri": "https://localhost:8080/"
        },
        "id": "lOwate6-ezHq",
        "outputId": "05daa506-b3d7-4482-8161-c81553d8da43"
      },
      "execution_count": 76,
      "outputs": [
        {
          "output_type": "execute_result",
          "data": {
            "text/plain": [
              "dict"
            ]
          },
          "metadata": {},
          "execution_count": 76
        }
      ]
    },
    {
      "cell_type": "code",
      "source": [
        "type(data_json['items'])"
      ],
      "metadata": {
        "colab": {
          "base_uri": "https://localhost:8080/"
        },
        "id": "c9kSslIzgXOE",
        "outputId": "23564dcc-e0be-4fe3-8970-26edada6b6c7"
      },
      "execution_count": 77,
      "outputs": [
        {
          "output_type": "execute_result",
          "data": {
            "text/plain": [
              "list"
            ]
          },
          "metadata": {},
          "execution_count": 77
        }
      ]
    },
    {
      "cell_type": "code",
      "source": [
        "data_json['items'][0]"
      ],
      "metadata": {
        "colab": {
          "base_uri": "https://localhost:8080/"
        },
        "id": "ROi2j5m8rlHT",
        "outputId": "affffefc-1334-4055-966b-def136f9febb"
      },
      "execution_count": 78,
      "outputs": [
        {
          "output_type": "execute_result",
          "data": {
            "text/plain": [
              "{'competitor price': 1799,\n",
              " 'competitor shop': 'VeloSmile',\n",
              " 'original category': 'Спасательные жилеты и круги',\n",
              " 'original id': '2094028',\n",
              " 'original price': 3210,\n",
              " 'original title': '\"Cпасательный жилет \"\"Докер\"\" до 80 кг р.44-46\"',\n",
              " 'original updated': '2022-04-18 00:37:18',\n",
              " 'original url': 'https://market.yandex.ru/product/843306581/offers?lr=213&sku=101192028615&how=aprice',\n",
              " 'sima-land.ru price': 1955,\n",
              " 'sima-land.ru updated': '2022-04-19 01:00:10'}"
            ]
          },
          "metadata": {},
          "execution_count": 78
        }
      ]
    },
    {
      "cell_type": "markdown",
      "source": [
        "#Сделаем цикл, который проходится по каждому объекту словаря"
      ],
      "metadata": {
        "id": "aVR7Je8p1IQ2"
      }
    },
    {
      "cell_type": "markdown",
      "source": [
        "Первый цикл пройдем вручную"
      ],
      "metadata": {
        "id": "O870Qatlwr4f"
      }
    },
    {
      "cell_type": "code",
      "source": [
        "article = data_json['items'][0]['original id']                      #артикул товара\n",
        "whole_sale_price = data_json['items'][0]['sima-land.ru price']      #оптовая цена этого товара\n",
        "original_price = data_json['items'][0]['original price']            #наша цена до преобразования\n",
        "min_competitor_price = data_json['items'][0]['competitor price']    #минимальная цена конкурента на этот товар\n",
        "our_price = (50+whole_sale_price)*100/55                            #расчет по формуле нашей цены товара\n",
        "\n",
        "if our_price < min_competitor_price:                                #если наша цена окажется ниже миинимальной цены конкурентов, устанавливаем ее\n",
        "  data_json['items'][item]['original price'] = min_competitor_price*0.97\n",
        "data_json['items'][0]"
      ],
      "metadata": {
        "colab": {
          "base_uri": "https://localhost:8080/"
        },
        "id": "DASNhEVivxnX",
        "outputId": "61dd6152-87e8-4dcf-c6a2-c785bb1063d5"
      },
      "execution_count": 79,
      "outputs": [
        {
          "output_type": "execute_result",
          "data": {
            "text/plain": [
              "{'competitor price': 1799,\n",
              " 'competitor shop': 'VeloSmile',\n",
              " 'original category': 'Спасательные жилеты и круги',\n",
              " 'original id': '2094028',\n",
              " 'original price': 3210,\n",
              " 'original title': '\"Cпасательный жилет \"\"Докер\"\" до 80 кг р.44-46\"',\n",
              " 'original updated': '2022-04-18 00:37:18',\n",
              " 'original url': 'https://market.yandex.ru/product/843306581/offers?lr=213&sku=101192028615&how=aprice',\n",
              " 'sima-land.ru price': 1955,\n",
              " 'sima-land.ru updated': '2022-04-19 01:00:10'}"
            ]
          },
          "metadata": {},
          "execution_count": 79
        }
      ]
    },
    {
      "cell_type": "markdown",
      "source": [
        "Теперь пройдемся по всем элементам"
      ],
      "metadata": {
        "id": "IDYd4FSV1voH"
      }
    },
    {
      "cell_type": "code",
      "source": [
        "for item in data_json['items']:                       #проходимся по каждому объекту\n",
        "\n",
        "  if item['competitor shop'] == 'Русэкспресс':        #если самая низкая цена конкурента от Русэкспресса,\n",
        "    continue                                          #то пропускаем шаг цикла, т.к это наш магазин\n",
        "\n",
        "\n",
        "  whole_sale_price = item['sima-land.ru price']       #оптовая цена товара\n",
        "  min_competitor_price = item['competitor price']     #минимальная цена конкурента на этот товар\n",
        "\n",
        "\n",
        "  if item['original id'] == article:                  #Так как нам нужен только первый набор данных по артиклу, \n",
        "    item['original price'] = original_price\n",
        "    continue                                          #если артикул повторяет артикул прошлого цикла, пропускаем шаг\n",
        "\n",
        "  else:\n",
        "    article = item['original id']                     #если артикул новый, то переменной article присваем новое значение артикула\n",
        "    our_price = (50+whole_sale_price)*100/55          #и считаем нашу цену по формуле\n",
        "\n",
        "    original_price = item['original price']           #чтобы для других наборов данных с одинаковым артикулом также изменить\n",
        "                                                      #цену на новую, если изменения будут, используем переменную original_price\n",
        "\n",
        "  if our_price < min_competitor_price:                #если эта цена окажется ниже мин. цены конкурента, заменяем в данных ее\n",
        "      item['original price'] = min_competitor_price*0.97\n",
        "      original_price = min_competitor_price*0.97\n",
        "\n",
        "  else:\n",
        "    continue\n",
        "\n",
        "\n"
      ],
      "metadata": {
        "id": "-8cwfG6am7Sn"
      },
      "execution_count": 80,
      "outputs": []
    },
    {
      "cell_type": "code",
      "source": [
        "#327100 записей всего"
      ],
      "metadata": {
        "id": "AO7vFCgBrgna"
      },
      "execution_count": 81,
      "outputs": []
    },
    {
      "cell_type": "code",
      "source": [
        "type(data_json['items'][0]['competitor price'])"
      ],
      "metadata": {
        "colab": {
          "base_uri": "https://localhost:8080/"
        },
        "id": "KZ5jN5ofuupr",
        "outputId": "b5e54f2a-f068-4ed4-befb-b6ee193c0800"
      },
      "execution_count": 82,
      "outputs": [
        {
          "output_type": "execute_result",
          "data": {
            "text/plain": [
              "int"
            ]
          },
          "metadata": {},
          "execution_count": 82
        }
      ]
    },
    {
      "cell_type": "code",
      "source": [
        "data_json['items'][6]"
      ],
      "metadata": {
        "colab": {
          "base_uri": "https://localhost:8080/"
        },
        "id": "OxwddbBxyCBb",
        "outputId": "58e24dbb-6da6-42a5-d750-a002485fb62b"
      },
      "execution_count": 83,
      "outputs": [
        {
          "output_type": "execute_result",
          "data": {
            "text/plain": [
              "{'competitor price': 1084,\n",
              " 'competitor shop': 'Qwen',\n",
              " 'original category': 'Игрушечные машинки и техника',\n",
              " 'original id': '7517061',\n",
              " 'original price': 1051.48,\n",
              " 'original title': '100 секретных окошек \"Транспорт',\n",
              " 'original updated': '2022-04-18 00:37:18',\n",
              " 'original url': 'https://market.yandex.ru/product/1699704981/offers?lr=213&sku=101625914255&how=aprice',\n",
              " 'sima-land.ru price': 518,\n",
              " 'sima-land.ru updated': '2022-04-19 01:00:11'}"
            ]
          },
          "metadata": {},
          "execution_count": 83
        }
      ]
    },
    {
      "cell_type": "code",
      "source": [
        "data_json['items'][7]"
      ],
      "metadata": {
        "colab": {
          "base_uri": "https://localhost:8080/"
        },
        "id": "8DMzRY8_ioYc",
        "outputId": "c731efd5-6604-42c3-f2d2-1c006c652b70"
      },
      "execution_count": 84,
      "outputs": [
        {
          "output_type": "execute_result",
          "data": {
            "text/plain": [
              "{'competitor price': 1084,\n",
              " 'competitor shop': 'Qwen',\n",
              " 'original category': 'Игрушечные машинки и техника',\n",
              " 'original id': '7517061',\n",
              " 'original price': 1051.48,\n",
              " 'original title': '100 секретных окошек \"Транспорт',\n",
              " 'original updated': '2022-04-18 00:37:18',\n",
              " 'original url': 'https://market.yandex.ru/product/1699704981/offers?lr=213&sku=101625914255&how=aprice',\n",
              " 'sima-land.ru price': 518,\n",
              " 'sima-land.ru updated': '2022-04-19 01:00:11'}"
            ]
          },
          "metadata": {},
          "execution_count": 84
        }
      ]
    },
    {
      "cell_type": "markdown",
      "source": [
        "Проверим, что для тех наборов данных, где мы изменили цену, цена изменилась для всех наборов с тем же артикулом"
      ],
      "metadata": {
        "id": "vUzODVh5jPjA"
      }
    },
    {
      "cell_type": "code",
      "source": [
        "print('original price:',data_json['items'][6]['original price'],';','original price:',data_json['items'][7]['original price'])"
      ],
      "metadata": {
        "colab": {
          "base_uri": "https://localhost:8080/"
        },
        "id": "ozRD6qv9jExT",
        "outputId": "985f40ca-4106-48c8-8ece-e7faeba240da"
      },
      "execution_count": 85,
      "outputs": [
        {
          "output_type": "stream",
          "name": "stdout",
          "text": [
            "original price: 1051.48 ; original price: 1051.48\n"
          ]
        }
      ]
    },
    {
      "cell_type": "code",
      "source": [
        "for item in data_json['items'][6]:\n",
        "  print(item ,type(item))"
      ],
      "metadata": {
        "colab": {
          "base_uri": "https://localhost:8080/"
        },
        "id": "aOgtUVx4u_5f",
        "outputId": "0d07bf10-c48e-404d-e622-5ae8f041d269"
      },
      "execution_count": 86,
      "outputs": [
        {
          "output_type": "stream",
          "name": "stdout",
          "text": [
            "original id <class 'str'>\n",
            "original title <class 'str'>\n",
            "original price <class 'str'>\n",
            "original category <class 'str'>\n",
            "original url <class 'str'>\n",
            "original updated <class 'str'>\n",
            "sima-land.ru price <class 'str'>\n",
            "sima-land.ru updated <class 'str'>\n",
            "competitor shop <class 'str'>\n",
            "competitor price <class 'str'>\n"
          ]
        }
      ]
    },
    {
      "cell_type": "markdown",
      "source": [
        "Как видно по строке original price, цена скорретировалась (была изначально 1051), т.е, за счет того, что наша цена оказалась изначально ниже самой низкой цены конкурента, нам удалось поднять цену на товар на 48 коп."
      ],
      "metadata": {
        "id": "NSvJDSDl0CI8"
      }
    },
    {
      "cell_type": "markdown",
      "source": [
        "#Теперь сформируем xml файл"
      ],
      "metadata": {
        "id": "qlGGKeABC-QZ"
      }
    },
    {
      "cell_type": "code",
      "source": [
        "!pip install dicttoxml"
      ],
      "metadata": {
        "colab": {
          "base_uri": "https://localhost:8080/"
        },
        "id": "T6T6nuaI7W03",
        "outputId": "6fb6e78f-de2c-4bf2-bbab-4a12ee33b51b"
      },
      "execution_count": 91,
      "outputs": [
        {
          "output_type": "stream",
          "name": "stdout",
          "text": [
            "Collecting dicttoxml\n",
            "  Downloading dicttoxml-1.7.4.tar.gz (18 kB)\n",
            "Building wheels for collected packages: dicttoxml\n",
            "  Building wheel for dicttoxml (setup.py) ... \u001b[?25l\u001b[?25hdone\n",
            "  Created wheel for dicttoxml: filename=dicttoxml-1.7.4-py3-none-any.whl size=17464 sha256=592fa37c5faf34d0b1e08b72b37b591aa8b78dbc3f051573965fefb835d4f824\n",
            "  Stored in directory: /root/.cache/pip/wheels/18/44/5a/c7b93703f611ae3b50820efbaf265413e6b183a56cbec6f661\n",
            "Successfully built dicttoxml\n",
            "Installing collected packages: dicttoxml\n",
            "Successfully installed dicttoxml-1.7.4\n"
          ]
        }
      ]
    },
    {
      "cell_type": "code",
      "source": [
        "import dicttoxml\n",
        "xml = dicttoxml.dicttoxml(data_json)"
      ],
      "metadata": {
        "id": "Sou58QXb7a-r"
      },
      "execution_count": 94,
      "outputs": []
    },
    {
      "cell_type": "code",
      "source": [
        "type(xml)"
      ],
      "metadata": {
        "colab": {
          "base_uri": "https://localhost:8080/"
        },
        "id": "VwXRJzsw7506",
        "outputId": "a90c07aa-a0b4-4e59-a2fd-df4f968e7e57"
      },
      "execution_count": 97,
      "outputs": [
        {
          "output_type": "execute_result",
          "data": {
            "text/plain": [
              "bytes"
            ]
          },
          "metadata": {},
          "execution_count": 97
        }
      ]
    },
    {
      "cell_type": "code",
      "source": [
        "xml[:1000]"
      ],
      "metadata": {
        "colab": {
          "base_uri": "https://localhost:8080/"
        },
        "id": "Lo4OgWzW9ZmG",
        "outputId": "e931a97e-e43e-46a3-8927-4a51c19ac366"
      },
      "execution_count": 100,
      "outputs": [
        {
          "output_type": "execute_result",
          "data": {
            "text/plain": [
              "b'<?xml version=\"1.0\" encoding=\"UTF-8\" ?><root><items type=\"list\"><item type=\"dict\"><original_id type=\"str\">2094028</original_id><original_title type=\"str\">&quot;C\\xd0\\xbf\\xd0\\xb0\\xd1\\x81\\xd0\\xb0\\xd1\\x82\\xd0\\xb5\\xd0\\xbb\\xd1\\x8c\\xd0\\xbd\\xd1\\x8b\\xd0\\xb9 \\xd0\\xb6\\xd0\\xb8\\xd0\\xbb\\xd0\\xb5\\xd1\\x82 &quot;&quot;\\xd0\\x94\\xd0\\xbe\\xd0\\xba\\xd0\\xb5\\xd1\\x80&quot;&quot; \\xd0\\xb4\\xd0\\xbe 80 \\xd0\\xba\\xd0\\xb3 \\xd1\\x80.44-46&quot;</original_title><original_price type=\"int\">3210</original_price><original_category type=\"str\">\\xd0\\xa1\\xd0\\xbf\\xd0\\xb0\\xd1\\x81\\xd0\\xb0\\xd1\\x82\\xd0\\xb5\\xd0\\xbb\\xd1\\x8c\\xd0\\xbd\\xd1\\x8b\\xd0\\xb5 \\xd0\\xb6\\xd0\\xb8\\xd0\\xbb\\xd0\\xb5\\xd1\\x82\\xd1\\x8b \\xd0\\xb8 \\xd0\\xba\\xd1\\x80\\xd1\\x83\\xd0\\xb3\\xd0\\xb8</original_category><original_url type=\"str\">https://market.yandex.ru/product/843306581/offers?lr=213&amp;sku=101192028615&amp;how=aprice</original_url><original_updated type=\"str\">2022-04-18 00:37:18</original_updated><sima-land.ru_price type=\"int\">1955</sima-land.ru_price><sima-land.ru_updated type=\"str\">2022-04-19 01:00:10</sima-land.ru_updated><competitor_shop type=\"str\">VeloSmile</competitor_shop><competitor_price type=\"int\">1799</competitor_price></item><item type=\"dict\"><original_id type=\"str\">2094028</original_id><original_title type=\"str\">&quot;C\\xd0\\xbf\\xd0\\xb0\\xd1\\x81\\xd0\\xb0\\xd1\\x82\\xd0\\xb5\\xd0\\xbb\\xd1\\x8c\\xd0\\xbd\\xd1\\x8b\\xd0\\xb9 \\xd0\\xb6\\xd0\\xb8\\xd0\\xbb\\xd0\\xb5\\xd1\\x82 &q'"
            ]
          },
          "metadata": {},
          "execution_count": 100
        }
      ]
    },
    {
      "cell_type": "code",
      "source": [
        "import xml.etree.ElementTree as ET\n",
        "tree = ET.ElementTree(ET.fromstring(xml))"
      ],
      "metadata": {
        "id": "ynGEwnn5_iSy"
      },
      "execution_count": 109,
      "outputs": []
    },
    {
      "cell_type": "code",
      "source": [
        "tree.write('yafbs_prices_updated.xml')"
      ],
      "metadata": {
        "id": "fL7ophwwA_l-"
      },
      "execution_count": 123,
      "outputs": []
    },
    {
      "cell_type": "code",
      "source": [
        "type(tree)"
      ],
      "metadata": {
        "colab": {
          "base_uri": "https://localhost:8080/"
        },
        "id": "Xqe7HCKDDT7I",
        "outputId": "708f800b-5123-47f1-db07-3ad825d97357"
      },
      "execution_count": 124,
      "outputs": [
        {
          "output_type": "execute_result",
          "data": {
            "text/plain": [
              "xml.etree.ElementTree.ElementTree"
            ]
          },
          "metadata": {},
          "execution_count": 124
        }
      ]
    },
    {
      "cell_type": "markdown",
      "source": [
        "#На этом задача выполнена"
      ],
      "metadata": {
        "id": "rgSiUnYzDGzl"
      }
    },
    {
      "cell_type": "markdown",
      "source": [
        "#Посмотрим на альтернативные способы решения)"
      ],
      "metadata": {
        "id": "t9evUoK_DKnq"
      }
    },
    {
      "cell_type": "markdown",
      "source": [
        "сформируем функцией вид xml файла, но в формате string"
      ],
      "metadata": {
        "id": "GPxKSPNRDYaY"
      }
    },
    {
      "cell_type": "code",
      "source": [
        "def json2xml(json_obj, line_padding=\"\"):\n",
        "    result_list = list()\n",
        "\n",
        "    json_obj_type = type(json_obj)\n",
        "\n",
        "    if json_obj_type is list:\n",
        "        for sub_elem in json_obj:\n",
        "            result_list.append(json2xml(sub_elem, line_padding))\n",
        "\n",
        "        return \"\\n\".join(result_list)\n",
        "\n",
        "    if json_obj_type is dict:\n",
        "        for tag_name in json_obj:\n",
        "            sub_obj = json_obj[tag_name]\n",
        "            result_list.append(\"%s<%s>\" % (line_padding, tag_name))\n",
        "            result_list.append(json2xml(sub_obj, \"\\t\" + line_padding))\n",
        "            result_list.append(\"%s</%s>\" % (line_padding, tag_name))\n",
        "\n",
        "        return \"\\n\".join(result_list)\n",
        "\n",
        "    return \"%s%s\" % (line_padding, json_obj)"
      ],
      "metadata": {
        "id": "R_trWHXias3y"
      },
      "execution_count": 104,
      "outputs": []
    },
    {
      "cell_type": "code",
      "source": [
        "result = json2xml(data_json)\n",
        "print(result[:5000])"
      ],
      "metadata": {
        "colab": {
          "base_uri": "https://localhost:8080/"
        },
        "id": "OAjYBGHgj3Iq",
        "outputId": "836252ac-5b5f-4c2d-f736-d28b45cccd69"
      },
      "execution_count": 105,
      "outputs": [
        {
          "output_type": "stream",
          "name": "stdout",
          "text": [
            "<items>\n",
            "\t<original id>\n",
            "\t\t2094028\n",
            "\t</original id>\n",
            "\t<original title>\n",
            "\t\t\"Cпасательный жилет \"\"Докер\"\" до 80 кг р.44-46\"\n",
            "\t</original title>\n",
            "\t<original price>\n",
            "\t\t3210\n",
            "\t</original price>\n",
            "\t<original category>\n",
            "\t\tСпасательные жилеты и круги\n",
            "\t</original category>\n",
            "\t<original url>\n",
            "\t\thttps://market.yandex.ru/product/843306581/offers?lr=213&sku=101192028615&how=aprice\n",
            "\t</original url>\n",
            "\t<original updated>\n",
            "\t\t2022-04-18 00:37:18\n",
            "\t</original updated>\n",
            "\t<sima-land.ru price>\n",
            "\t\t1955\n",
            "\t</sima-land.ru price>\n",
            "\t<sima-land.ru updated>\n",
            "\t\t2022-04-19 01:00:10\n",
            "\t</sima-land.ru updated>\n",
            "\t<competitor shop>\n",
            "\t\tVeloSmile\n",
            "\t</competitor shop>\n",
            "\t<competitor price>\n",
            "\t\t1799\n",
            "\t</competitor price>\n",
            "\t<original id>\n",
            "\t\t2094028\n",
            "\t</original id>\n",
            "\t<original title>\n",
            "\t\t\"Cпасательный жилет \"\"Докер\"\" до 80 кг р.44-46\"\n",
            "\t</original title>\n",
            "\t<original price>\n",
            "\t\t3210\n",
            "\t</original price>\n",
            "\t<original category>\n",
            "\t\tСпасательные жилеты и круги\n",
            "\t</original category>\n",
            "\t<original url>\n",
            "\t\thttps://market.yandex.ru/product/843306581/offers?lr=213&sku=101192028615&how=aprice\n",
            "\t</original url>\n",
            "\t<original updated>\n",
            "\t\t2022-04-18 00:37:18\n",
            "\t</original updated>\n",
            "\t<sima-land.ru price>\n",
            "\t\t1955\n",
            "\t</sima-land.ru price>\n",
            "\t<sima-land.ru updated>\n",
            "\t\t2022-04-19 01:00:10\n",
            "\t</sima-land.ru updated>\n",
            "\t<competitor shop>\n",
            "\t\tBE STRONG\n",
            "\t</competitor shop>\n",
            "\t<competitor price>\n",
            "\t\t2840\n",
            "\t</competitor price>\n",
            "\t<original id>\n",
            "\t\t2094028\n",
            "\t</original id>\n",
            "\t<original title>\n",
            "\t\t\"Cпасательный жилет \"\"Докер\"\" до 80 кг р.44-46\"\n",
            "\t</original title>\n",
            "\t<original price>\n",
            "\t\t3210\n",
            "\t</original price>\n",
            "\t<original category>\n",
            "\t\tСпасательные жилеты и круги\n",
            "\t</original category>\n",
            "\t<original url>\n",
            "\t\thttps://market.yandex.ru/product/843306581/offers?lr=213&sku=101192028615&how=aprice\n",
            "\t</original url>\n",
            "\t<original updated>\n",
            "\t\t2022-04-18 00:37:18\n",
            "\t</original updated>\n",
            "\t<sima-land.ru price>\n",
            "\t\t1955\n",
            "\t</sima-land.ru price>\n",
            "\t<sima-land.ru updated>\n",
            "\t\t2022-04-19 01:00:10\n",
            "\t</sima-land.ru updated>\n",
            "\t<competitor shop>\n",
            "\t\tQwen\n",
            "\t</competitor shop>\n",
            "\t<competitor price>\n",
            "\t\t3457\n",
            "\t</competitor price>\n",
            "\t<original id>\n",
            "\t\t7336848\n",
            "\t</original id>\n",
            "\t<original title>\n",
            "\t\t100 наклеек альбом \"Путешествие Синего трактора\", Синий трактор\n",
            "\t</original title>\n",
            "\t<original price>\n",
            "\t\t289\n",
            "\t</original price>\n",
            "\t<original category>\n",
            "\t\tНаклейки для творчества\n",
            "\t</original category>\n",
            "\t<original url>\n",
            "\t\thttps://market.yandex.ru/product/1736197842/offers?lr=213&sku=101643697857&how=aprice\n",
            "\t</original url>\n",
            "\t<original updated>\n",
            "\t\t2022-04-18 00:37:18\n",
            "\t</original updated>\n",
            "\t<sima-land.ru price>\n",
            "\t\t69\n",
            "\t</sima-land.ru price>\n",
            "\t<sima-land.ru updated>\n",
            "\t\t2022-04-19 01:00:11\n",
            "\t</sima-land.ru updated>\n",
            "\t<competitor shop>\n",
            "\t\tToys Market\n",
            "\t</competitor shop>\n",
            "\t<competitor price>\n",
            "\t\t176\n",
            "\t</competitor price>\n",
            "\t<original id>\n",
            "\t\t7336848\n",
            "\t</original id>\n",
            "\t<original title>\n",
            "\t\t100 наклеек альбом \"Путешествие Синего трактора\", Синий трактор\n",
            "\t</original title>\n",
            "\t<original price>\n",
            "\t\t289\n",
            "\t</original price>\n",
            "\t<original category>\n",
            "\t\tНаклейки для творчества\n",
            "\t</original category>\n",
            "\t<original url>\n",
            "\t\thttps://market.yandex.ru/product/1736197842/offers?lr=213&sku=101643697857&how=aprice\n",
            "\t</original url>\n",
            "\t<original updated>\n",
            "\t\t2022-04-18 00:37:18\n",
            "\t</original updated>\n",
            "\t<sima-land.ru price>\n",
            "\t\t69\n",
            "\t</sima-land.ru price>\n",
            "\t<sima-land.ru updated>\n",
            "\t\t2022-04-19 01:00:11\n",
            "\t</sima-land.ru updated>\n",
            "\t<competitor shop>\n",
            "\t\tGorodOk\n",
            "\t</competitor shop>\n",
            "\t<competitor price>\n",
            "\t\t311\n",
            "\t</competitor price>\n",
            "\t<original id>\n",
            "\t\t7336848\n",
            "\t</original id>\n",
            "\t<original title>\n",
            "\t\t100 наклеек альбом \"Путешествие Синего трактора\", Синий трактор\n",
            "\t</original title>\n",
            "\t<original price>\n",
            "\t\t289\n",
            "\t</original price>\n",
            "\t<original category>\n",
            "\t\tНаклейки для творчества\n",
            "\t</original category>\n",
            "\t<original url>\n",
            "\t\thttps://market.yandex.ru/product/1736197842/offers?lr=213&sku=101643697857&how=aprice\n",
            "\t</original url>\n",
            "\t<original updated>\n",
            "\t\t2022-04-18 00:37:18\n",
            "\t</original updated>\n",
            "\t<sima-land.ru price>\n",
            "\t\t69\n",
            "\t</sima-land.ru price>\n",
            "\t<sima-land.ru updated>\n",
            "\t\t2022-04-19 01:00:11\n",
            "\t</sima-land.ru updated>\n",
            "\t<competitor shop>\n",
            "\t\tMindSpace\n",
            "\t</competitor shop>\n",
            "\t<competitor price>\n",
            "\t\t338\n",
            "\t</competitor price>\n",
            "\t<original id>\n",
            "\t\t7517061\n",
            "\t</original id>\n",
            "\t<original title>\n",
            "\t\t100 секретных окошек \"Транспорт\n",
            "\t</original title>\n",
            "\t<original price>\n",
            "\t\t1051.48\n",
            "\t</original price>\n",
            "\t<original category>\n",
            "\t\tИгрушечные машинки и техника\n",
            "\t</original category>\n",
            "\t<original url>\n",
            "\t\thttps://market.yandex.ru/product/1699704981/offers?lr=213&sku=101625914255&how=aprice\n",
            "\t</original url>\n",
            "\t<original updated>\n",
            "\t\t2022-04-18 00:37:18\n",
            "\t</original updated>\n",
            "\t<sima-land.ru price>\n",
            "\t\t518\n",
            "\t</sima-land.ru price>\n",
            "\t<sima-land.ru updated>\n",
            "\t\t2022-04-19 01:00:11\n",
            "\t</sima-land.ru updated>\n",
            "\t<competitor shop>\n",
            "\t\tQwen\n",
            "\t</competitor shop>\n",
            "\t<competitor price>\n",
            "\t\t1084\n",
            "\t</competitor price>\n",
            "\t<original id>\n",
            "\t\t7517061\n",
            "\t</original id>\n",
            "\t<original title>\n",
            "\t\t100 секретных окошек \"Транспорт\n",
            "\t</original title>\n",
            "\t<original price>\n",
            "\t\t1051.48\n",
            "\t</original price>\n",
            "\t<original category>\n",
            "\t\tИгрушечные машинки и техника\n",
            "\t</original category>\n",
            "\t<original url>\n",
            "\t\thttps://market.yandex.ru/product/1699704981/offers?lr=213&sku=101625914255&how=aprice\n",
            "\t</original url>\n",
            "\t<original updated>\n",
            "\t\t2022-04-18 00:37:18\n",
            "\t</original updated>\n",
            "\t<sima-land.ru price\n"
          ]
        }
      ]
    },
    {
      "cell_type": "code",
      "source": [
        "print(result[-150:])"
      ],
      "metadata": {
        "colab": {
          "base_uri": "https://localhost:8080/"
        },
        "id": "aS7lq2S0wB3p",
        "outputId": "2d5016d4-70ac-41fd-ce54-da55dcbc74c1"
      },
      "execution_count": 106,
      "outputs": [
        {
          "output_type": "stream",
          "name": "stdout",
          "text": [
            "ed>\n",
            "\t<competitor shop>\n",
            "\t\tkv.mart\n",
            "\t</competitor shop>\n",
            "\t<competitor price>\n",
            "\t\t319\n",
            "\t</competitor price>\n",
            "</items>\n",
            "<updated>\n",
            "\t2022-04-20 06:00:08\n",
            "</updated>\n"
          ]
        }
      ]
    },
    {
      "cell_type": "code",
      "source": [
        "for i in data_json:\n",
        "  print(i)"
      ],
      "metadata": {
        "colab": {
          "base_uri": "https://localhost:8080/"
        },
        "id": "VUk-oUWbv7In",
        "outputId": "0627b448-c1fb-40b4-c0c2-7c8e5115dab7"
      },
      "execution_count": 36,
      "outputs": [
        {
          "output_type": "stream",
          "name": "stdout",
          "text": [
            "items\n",
            "updated\n"
          ]
        }
      ]
    },
    {
      "cell_type": "code",
      "source": [
        "data_json['updated']"
      ],
      "metadata": {
        "colab": {
          "base_uri": "https://localhost:8080/",
          "height": 35
        },
        "id": "klfJ408ByexP",
        "outputId": "b58d2c4c-acb3-4f18-9628-a72dc3b8ad35"
      },
      "execution_count": 45,
      "outputs": [
        {
          "output_type": "execute_result",
          "data": {
            "text/plain": [
              "'2022-04-20 06:00:08'"
            ],
            "application/vnd.google.colaboratory.intrinsic+json": {
              "type": "string"
            }
          },
          "metadata": {},
          "execution_count": 45
        }
      ]
    },
    {
      "cell_type": "markdown",
      "source": [
        "Выглядит довольно хорошо, нужно только сохранить в xml (не нашел способ))"
      ],
      "metadata": {
        "id": "iHWG6CkcDil_"
      }
    },
    {
      "cell_type": "markdown",
      "source": [
        "Попробуем вручную прописать деревья"
      ],
      "metadata": {
        "id": "tTW1hlRwDqYg"
      }
    },
    {
      "cell_type": "code",
      "source": [
        "import xml.etree.cElementTree as ET"
      ],
      "metadata": {
        "id": "EO_nX5XGy2_u"
      },
      "execution_count": 63,
      "outputs": []
    },
    {
      "cell_type": "code",
      "source": [
        "root = ET.Element('root')\n",
        "\n",
        "#ET.SubElement(root, 'items').text = data_json['items']\n",
        "\n",
        "items = ET.SubElement(root, \"items\")\n",
        "\n",
        "for i in data_json['items']:\n",
        "\n",
        "  ET.SubElement(items, 'original id').text = i['original id']\n",
        "  ET.SubElement(items, 'original title').text = i['original title']\n",
        "  ET.SubElement(items, 'original price').text = str(i['original price'])\n",
        "  ET.SubElement(items, 'original category').text = i['original category']\n",
        "  ET.SubElement(items, 'original url').text = i['original url']\n",
        "  ET.SubElement(items, 'original updated').text = i['original updated']\n",
        "  ET.SubElement(items, 'sima-land.ru price').text = str(i['sima-land.ru price'])\n",
        "  ET.SubElement(items, 'sima-land.ru updated').text = i['sima-land.ru updated']\n",
        "  ET.SubElement(items, 'competitor shop').text = i['competitor shop']\n",
        "  ET.SubElement(items, 'competitor price').text = str(i['competitor price'])\n",
        "\n",
        "updated = ET.SubElement(root, \"updated\").text = data_json['updated']\n",
        "\n",
        "tree = ET.ElementTree(root)\n",
        "tree.write('yafbs_prices_updated1.xml')\n"
      ],
      "metadata": {
        "id": "F-DSx7NS5Caj"
      },
      "execution_count": 66,
      "outputs": []
    },
    {
      "cell_type": "code",
      "source": [
        "type(tree)\n"
      ],
      "metadata": {
        "colab": {
          "base_uri": "https://localhost:8080/"
        },
        "id": "ZjlQuB7b9JM1",
        "outputId": "65caa5d0-4e55-4837-e013-23cc31036c00"
      },
      "execution_count": 67,
      "outputs": [
        {
          "output_type": "execute_result",
          "data": {
            "text/plain": [
              "xml.etree.ElementTree.ElementTree"
            ]
          },
          "metadata": {},
          "execution_count": 67
        }
      ]
    },
    {
      "cell_type": "code",
      "source": [
        "import xml.etree.ElementTree as ET\n",
        "from xml.etree.ElementTree import tostring\n",
        "tree=ET.parse('yafbs_prices_updated1.xml')\n",
        "tree = tree.getroot()\n",
        "t = tostring(tree)\n",
        "t = t.lower()\n",
        "tree= ET.fromstring(t)"
      ],
      "metadata": {
        "colab": {
          "base_uri": "https://localhost:8080/",
          "height": 96
        },
        "id": "QMtIa_too3Z2",
        "outputId": "3fa1113d-676e-479f-b38c-b9c61f2bfb8e"
      },
      "execution_count": 68,
      "outputs": [
        {
          "output_type": "error",
          "ename": "ParseError",
          "evalue": "ignored",
          "traceback": [
            "\u001b[0;36m  File \u001b[0;32m\"<string>\"\u001b[0;36m, line \u001b[0;32munknown\u001b[0m\n\u001b[0;31mParseError\u001b[0m\u001b[0;31m:\u001b[0m not well-formed (invalid token): line 1, column 25\n"
          ]
        }
      ]
    },
    {
      "cell_type": "code",
      "source": [
        "with open(\"yafbs_prices_updated.xml\", \"w\") as f:\n",
        "    f.write(ET.tostring(tree))"
      ],
      "metadata": {
        "colab": {
          "base_uri": "https://localhost:8080/",
          "height": 328
        },
        "id": "WQn_3E6gojf3",
        "outputId": "6cbbe7b4-5032-4c12-a6fe-3e4da73d65bd"
      },
      "execution_count": 61,
      "outputs": [
        {
          "output_type": "error",
          "ename": "AttributeError",
          "evalue": "ignored",
          "traceback": [
            "\u001b[0;31m---------------------------------------------------------------------------\u001b[0m",
            "\u001b[0;31mAttributeError\u001b[0m                            Traceback (most recent call last)",
            "\u001b[0;32m<ipython-input-61-7a1030f544c7>\u001b[0m in \u001b[0;36m<module>\u001b[0;34m()\u001b[0m\n\u001b[1;32m      1\u001b[0m \u001b[0;32mwith\u001b[0m \u001b[0mopen\u001b[0m\u001b[0;34m(\u001b[0m\u001b[0;34m\"yafbs_prices_updated.xml\"\u001b[0m\u001b[0;34m,\u001b[0m \u001b[0;34m\"w\"\u001b[0m\u001b[0;34m)\u001b[0m \u001b[0;32mas\u001b[0m \u001b[0mf\u001b[0m\u001b[0;34m:\u001b[0m\u001b[0;34m\u001b[0m\u001b[0;34m\u001b[0m\u001b[0m\n\u001b[0;32m----> 2\u001b[0;31m     \u001b[0mf\u001b[0m\u001b[0;34m.\u001b[0m\u001b[0mwrite\u001b[0m\u001b[0;34m(\u001b[0m\u001b[0mET\u001b[0m\u001b[0;34m.\u001b[0m\u001b[0mtostring\u001b[0m\u001b[0;34m(\u001b[0m\u001b[0mtree\u001b[0m\u001b[0;34m)\u001b[0m\u001b[0;34m)\u001b[0m\u001b[0;34m\u001b[0m\u001b[0;34m\u001b[0m\u001b[0m\n\u001b[0m",
            "\u001b[0;32m/usr/lib/python3.7/xml/etree/ElementTree.py\u001b[0m in \u001b[0;36mtostring\u001b[0;34m(element, encoding, method, short_empty_elements)\u001b[0m\n\u001b[1;32m   1134\u001b[0m     \u001b[0mstream\u001b[0m \u001b[0;34m=\u001b[0m \u001b[0mio\u001b[0m\u001b[0;34m.\u001b[0m\u001b[0mStringIO\u001b[0m\u001b[0;34m(\u001b[0m\u001b[0;34m)\u001b[0m \u001b[0;32mif\u001b[0m \u001b[0mencoding\u001b[0m \u001b[0;34m==\u001b[0m \u001b[0;34m'unicode'\u001b[0m \u001b[0;32melse\u001b[0m \u001b[0mio\u001b[0m\u001b[0;34m.\u001b[0m\u001b[0mBytesIO\u001b[0m\u001b[0;34m(\u001b[0m\u001b[0;34m)\u001b[0m\u001b[0;34m\u001b[0m\u001b[0;34m\u001b[0m\u001b[0m\n\u001b[1;32m   1135\u001b[0m     ElementTree(element).write(stream, encoding, method=method,\n\u001b[0;32m-> 1136\u001b[0;31m                                short_empty_elements=short_empty_elements)\n\u001b[0m\u001b[1;32m   1137\u001b[0m     \u001b[0;32mreturn\u001b[0m \u001b[0mstream\u001b[0m\u001b[0;34m.\u001b[0m\u001b[0mgetvalue\u001b[0m\u001b[0;34m(\u001b[0m\u001b[0;34m)\u001b[0m\u001b[0;34m\u001b[0m\u001b[0;34m\u001b[0m\u001b[0m\n\u001b[1;32m   1138\u001b[0m \u001b[0;34m\u001b[0m\u001b[0m\n",
            "\u001b[0;32m/usr/lib/python3.7/xml/etree/ElementTree.py\u001b[0m in \u001b[0;36mwrite\u001b[0;34m(self, file_or_filename, encoding, xml_declaration, default_namespace, method, short_empty_elements)\u001b[0m\n\u001b[1;32m    775\u001b[0m                 \u001b[0mserialize\u001b[0m \u001b[0;34m=\u001b[0m \u001b[0m_serialize\u001b[0m\u001b[0;34m[\u001b[0m\u001b[0mmethod\u001b[0m\u001b[0;34m]\u001b[0m\u001b[0;34m\u001b[0m\u001b[0;34m\u001b[0m\u001b[0m\n\u001b[1;32m    776\u001b[0m                 serialize(write, self._root, qnames, namespaces,\n\u001b[0;32m--> 777\u001b[0;31m                           short_empty_elements=short_empty_elements)\n\u001b[0m\u001b[1;32m    778\u001b[0m \u001b[0;34m\u001b[0m\u001b[0m\n\u001b[1;32m    779\u001b[0m     \u001b[0;32mdef\u001b[0m \u001b[0mwrite_c14n\u001b[0m\u001b[0;34m(\u001b[0m\u001b[0mself\u001b[0m\u001b[0;34m,\u001b[0m \u001b[0mfile\u001b[0m\u001b[0;34m)\u001b[0m\u001b[0;34m:\u001b[0m\u001b[0;34m\u001b[0m\u001b[0;34m\u001b[0m\u001b[0m\n",
            "\u001b[0;32m/usr/lib/python3.7/xml/etree/ElementTree.py\u001b[0m in \u001b[0;36m_serialize_xml\u001b[0;34m(write, elem, qnames, namespaces, short_empty_elements, **kwargs)\u001b[0m\n\u001b[1;32m    899\u001b[0m def _serialize_xml(write, elem, qnames, namespaces,\n\u001b[1;32m    900\u001b[0m                    short_empty_elements, **kwargs):\n\u001b[0;32m--> 901\u001b[0;31m     \u001b[0mtag\u001b[0m \u001b[0;34m=\u001b[0m \u001b[0melem\u001b[0m\u001b[0;34m.\u001b[0m\u001b[0mtag\u001b[0m\u001b[0;34m\u001b[0m\u001b[0;34m\u001b[0m\u001b[0m\n\u001b[0m\u001b[1;32m    902\u001b[0m     \u001b[0mtext\u001b[0m \u001b[0;34m=\u001b[0m \u001b[0melem\u001b[0m\u001b[0;34m.\u001b[0m\u001b[0mtext\u001b[0m\u001b[0;34m\u001b[0m\u001b[0;34m\u001b[0m\u001b[0m\n\u001b[1;32m    903\u001b[0m     \u001b[0;32mif\u001b[0m \u001b[0mtag\u001b[0m \u001b[0;32mis\u001b[0m \u001b[0mComment\u001b[0m\u001b[0;34m:\u001b[0m\u001b[0;34m\u001b[0m\u001b[0;34m\u001b[0m\u001b[0m\n",
            "\u001b[0;31mAttributeError\u001b[0m: 'ElementTree' object has no attribute 'tag'"
          ]
        }
      ]
    },
    {
      "cell_type": "markdown",
      "source": [
        "Сталкиваюсь с непонятными ошибками)"
      ],
      "metadata": {
        "id": "vfvT3r6rDxvk"
      }
    }
  ]
}
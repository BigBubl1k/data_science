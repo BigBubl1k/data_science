{
  "nbformat": 4,
  "nbformat_minor": 0,
  "metadata": {
    "colab": {
      "name": "Yandex.market. Тюрин Игорь",
      "provenance": [],
      "collapsed_sections": [],
      "authorship_tag": "ABX9TyPcMjkKhh+FP8/m2dft1Fsb",
      "include_colab_link": true
    },
    "kernelspec": {
      "name": "python3",
      "display_name": "Python 3"
    },
    "language_info": {
      "name": "python"
    },
    "accelerator": "TPU"
  },
  "cells": [
    {
      "cell_type": "markdown",
      "metadata": {
        "id": "view-in-github",
        "colab_type": "text"
      },
      "source": [
        "<a href=\"https://colab.research.google.com/github/BigBubl1k/data_science/blob/main/Yandex_market_%D0%A2%D1%8E%D1%80%D0%B8%D0%BD_%D0%98%D0%B3%D0%BE%D1%80%D1%8C.ipynb\" target=\"_parent\"><img src=\"https://colab.research.google.com/assets/colab-badge.svg\" alt=\"Open In Colab\"/></a>"
      ]
    },
    {
      "cell_type": "markdown",
      "source": [
        "#импортируем библиотеки и загрузим данные в data_json"
      ],
      "metadata": {
        "id": "fUatswyn0vKP"
      }
    },
    {
      "cell_type": "code",
      "source": [
        "from urllib.request import urlopen\n",
        "import json\n",
        "url = 'http://5.181.109.139/marketer/api/data.json'\n",
        "response = urlopen(url)\n",
        "data_json = json.loads(response.read())\n"
      ],
      "metadata": {
        "id": "8mrBs43DeXlJ"
      },
      "execution_count": 69,
      "outputs": []
    },
    {
      "cell_type": "markdown",
      "source": [
        "#Проверим типы данных и посмотрим на их запись"
      ],
      "metadata": {
        "id": "VELDIHma03jm"
      }
    },
    {
      "cell_type": "code",
      "source": [
        "len(data_json)"
      ],
      "metadata": {
        "colab": {
          "base_uri": "https://localhost:8080/"
        },
        "id": "LgBE7-eheoXI",
        "outputId": "016d840c-80ff-4741-f01a-961824893490"
      },
      "execution_count": 70,
      "outputs": [
        {
          "output_type": "execute_result",
          "data": {
            "text/plain": [
              "2"
            ]
          },
          "metadata": {},
          "execution_count": 70
        }
      ]
    },
    {
      "cell_type": "code",
      "source": [
        "type(data_json)"
      ],
      "metadata": {
        "colab": {
          "base_uri": "https://localhost:8080/"
        },
        "id": "lOwate6-ezHq",
        "outputId": "bb5e41d8-01d2-48e1-f015-a1bc357fd2f5"
      },
      "execution_count": 71,
      "outputs": [
        {
          "output_type": "execute_result",
          "data": {
            "text/plain": [
              "dict"
            ]
          },
          "metadata": {},
          "execution_count": 71
        }
      ]
    },
    {
      "cell_type": "code",
      "source": [
        "type(data_json['items'])"
      ],
      "metadata": {
        "colab": {
          "base_uri": "https://localhost:8080/"
        },
        "id": "c9kSslIzgXOE",
        "outputId": "f2622fd7-75e2-4b0b-bcab-8def804b014b"
      },
      "execution_count": 72,
      "outputs": [
        {
          "output_type": "execute_result",
          "data": {
            "text/plain": [
              "list"
            ]
          },
          "metadata": {},
          "execution_count": 72
        }
      ]
    },
    {
      "cell_type": "code",
      "source": [
        "data_json['items'][0]"
      ],
      "metadata": {
        "colab": {
          "base_uri": "https://localhost:8080/"
        },
        "id": "ROi2j5m8rlHT",
        "outputId": "9c1565bf-bca9-446d-ab84-9cd433f1fc2a"
      },
      "execution_count": 73,
      "outputs": [
        {
          "output_type": "execute_result",
          "data": {
            "text/plain": [
              "{'competitor price': 1799,\n",
              " 'competitor shop': 'VeloSmile',\n",
              " 'original category': 'Спасательные жилеты и круги',\n",
              " 'original id': '2094028',\n",
              " 'original price': 3210,\n",
              " 'original title': '\"Cпасательный жилет \"\"Докер\"\" до 80 кг р.44-46\"',\n",
              " 'original updated': '2022-04-18 00:37:18',\n",
              " 'original url': 'https://market.yandex.ru/product/843306581/offers?lr=213&sku=101192028615&how=aprice',\n",
              " 'sima-land.ru price': 1955,\n",
              " 'sima-land.ru updated': '2022-04-19 01:00:10'}"
            ]
          },
          "metadata": {},
          "execution_count": 73
        }
      ]
    },
    {
      "cell_type": "markdown",
      "source": [
        "#Сделаем цикл, который проходится по каждому объекту словаря"
      ],
      "metadata": {
        "id": "aVR7Je8p1IQ2"
      }
    },
    {
      "cell_type": "markdown",
      "source": [
        "Первый цикл пройдем вручную"
      ],
      "metadata": {
        "id": "O870Qatlwr4f"
      }
    },
    {
      "cell_type": "code",
      "source": [
        "article = data_json['items'][0]['original id']                      #артикул товара\n",
        "whole_sale_price = data_json['items'][0]['sima-land.ru price']      #оптовая цена этого товара\n",
        "original_price = data_json['items'][0]['original price']            #наша цена до преобразования\n",
        "min_competitor_price = data_json['items'][0]['competitor price']    #минимальная цена конкурента на этот товар\n",
        "our_price = (50+whole_sale_price)*100/55                            #расчет по формуле нашей цены товара\n",
        "\n",
        "if our_price < min_competitor_price:                                #если наша цена окажется ниже миинимальной цены конкурентов, устанавливаем ее\n",
        "  data_json['items'][item]['original price'] = min_competitor_price*0.97\n",
        "data_json['items'][0]"
      ],
      "metadata": {
        "colab": {
          "base_uri": "https://localhost:8080/"
        },
        "id": "DASNhEVivxnX",
        "outputId": "e227ac11-b67c-4d71-bc2e-995f00ba3014"
      },
      "execution_count": 52,
      "outputs": [
        {
          "output_type": "execute_result",
          "data": {
            "text/plain": [
              "{'competitor price': 1799,\n",
              " 'competitor shop': 'VeloSmile',\n",
              " 'original category': 'Спасательные жилеты и круги',\n",
              " 'original id': '2094028',\n",
              " 'original price': 3210,\n",
              " 'original title': '\"Cпасательный жилет \"\"Докер\"\" до 80 кг р.44-46\"',\n",
              " 'original updated': '2022-04-18 00:37:18',\n",
              " 'original url': 'https://market.yandex.ru/product/843306581/offers?lr=213&sku=101192028615&how=aprice',\n",
              " 'sima-land.ru price': 1955,\n",
              " 'sima-land.ru updated': '2022-04-19 01:00:10'}"
            ]
          },
          "metadata": {},
          "execution_count": 52
        }
      ]
    },
    {
      "cell_type": "markdown",
      "source": [
        "Теперь пройдемся по всем элементам"
      ],
      "metadata": {
        "id": "IDYd4FSV1voH"
      }
    },
    {
      "cell_type": "code",
      "source": [
        "for item in data_json['items']:                       #проходимся по каждому объекту\n",
        "\n",
        "  if item['competitor shop'] == 'Русэкспресс':        #если самая низкая цена конкурента от Русэкспресса,\n",
        "    continue                                          #то пропускаем шаг цикла, т.к это наш магазин\n",
        "\n",
        "\n",
        "  whole_sale_price = item['sima-land.ru price']       #оптовая цена товара\n",
        "  min_competitor_price = item['competitor price']     #минимальная цена конкурента на этот товар\n",
        "\n",
        "\n",
        "  if item['original id'] == article:                  #Так как нам нужен только первый набор данных по артиклу, \n",
        "    item['original price'] = original_price\n",
        "    continue                                          #если артикул повторяет артикул прошлого цикла, пропускаем шаг\n",
        "\n",
        "  else:\n",
        "    article = item['original id']                     #если артикул новый, то переменной article присваем новое значение артикула\n",
        "    our_price = (50+whole_sale_price)*100/55          #и считаем нашу цену по формуле\n",
        "\n",
        "    original_price = item['original price']           #чтобы для других наборов данных с одинаковым артикулом также изменить\n",
        "                                                      #цену на новую, если изменения будут, используем переменную original_price\n",
        "\n",
        "  if our_price < min_competitor_price:                #если эта цена окажется ниже мин. цены конкурента, заменяем в данных ее\n",
        "      item['original price'] = min_competitor_price*0.97\n",
        "      original_price = min_competitor_price*0.97\n",
        "\n",
        "  else:\n",
        "    continue\n",
        "\n",
        "\n"
      ],
      "metadata": {
        "id": "-8cwfG6am7Sn"
      },
      "execution_count": 53,
      "outputs": []
    },
    {
      "cell_type": "code",
      "source": [
        "#327100 записей всего"
      ],
      "metadata": {
        "id": "AO7vFCgBrgna"
      },
      "execution_count": 54,
      "outputs": []
    },
    {
      "cell_type": "code",
      "source": [
        "type(data_json['items'][0]['competitor price'])"
      ],
      "metadata": {
        "colab": {
          "base_uri": "https://localhost:8080/"
        },
        "id": "KZ5jN5ofuupr",
        "outputId": "5de199af-5786-44ad-e299-b29f3b089e3a"
      },
      "execution_count": 55,
      "outputs": [
        {
          "output_type": "execute_result",
          "data": {
            "text/plain": [
              "int"
            ]
          },
          "metadata": {},
          "execution_count": 55
        }
      ]
    },
    {
      "cell_type": "code",
      "source": [
        "data_json['items'][6]"
      ],
      "metadata": {
        "colab": {
          "base_uri": "https://localhost:8080/"
        },
        "id": "OxwddbBxyCBb",
        "outputId": "afd2ef7d-72d8-4745-ae5c-567de74752ba"
      },
      "execution_count": 56,
      "outputs": [
        {
          "output_type": "execute_result",
          "data": {
            "text/plain": [
              "{'competitor price': 1084,\n",
              " 'competitor shop': 'Qwen',\n",
              " 'original category': 'Игрушечные машинки и техника',\n",
              " 'original id': '7517061',\n",
              " 'original price': 1051.48,\n",
              " 'original title': '100 секретных окошек \"Транспорт',\n",
              " 'original updated': '2022-04-18 00:37:18',\n",
              " 'original url': 'https://market.yandex.ru/product/1699704981/offers?lr=213&sku=101625914255&how=aprice',\n",
              " 'sima-land.ru price': 518,\n",
              " 'sima-land.ru updated': '2022-04-19 01:00:11'}"
            ]
          },
          "metadata": {},
          "execution_count": 56
        }
      ]
    },
    {
      "cell_type": "code",
      "source": [
        "data_json['items'][7]"
      ],
      "metadata": {
        "colab": {
          "base_uri": "https://localhost:8080/"
        },
        "id": "8DMzRY8_ioYc",
        "outputId": "65eb987d-777d-4d7c-d0f3-26486c8eaa74"
      },
      "execution_count": 57,
      "outputs": [
        {
          "output_type": "execute_result",
          "data": {
            "text/plain": [
              "{'competitor price': 1084,\n",
              " 'competitor shop': 'Qwen',\n",
              " 'original category': 'Игрушечные машинки и техника',\n",
              " 'original id': '7517061',\n",
              " 'original price': 1051.48,\n",
              " 'original title': '100 секретных окошек \"Транспорт',\n",
              " 'original updated': '2022-04-18 00:37:18',\n",
              " 'original url': 'https://market.yandex.ru/product/1699704981/offers?lr=213&sku=101625914255&how=aprice',\n",
              " 'sima-land.ru price': 518,\n",
              " 'sima-land.ru updated': '2022-04-19 01:00:11'}"
            ]
          },
          "metadata": {},
          "execution_count": 57
        }
      ]
    },
    {
      "cell_type": "markdown",
      "source": [
        "Проверим, что для тех наборов данных, где мы изменили цену, цена изменилась для всех наборов с тем же артикулом"
      ],
      "metadata": {
        "id": "vUzODVh5jPjA"
      }
    },
    {
      "cell_type": "code",
      "source": [
        "print('original price:',data_json['items'][6]['original price'],';','original price:',data_json['items'][7]['original price'])"
      ],
      "metadata": {
        "colab": {
          "base_uri": "https://localhost:8080/"
        },
        "id": "ozRD6qv9jExT",
        "outputId": "9e661faa-1d69-4c9f-977c-fc2720c99bf7"
      },
      "execution_count": 58,
      "outputs": [
        {
          "output_type": "stream",
          "name": "stdout",
          "text": [
            "original price: 1051.48 ; original price: 1051.48\n"
          ]
        }
      ]
    },
    {
      "cell_type": "code",
      "source": [
        "for item in data_json['items'][6]:\n",
        "  print(item ,type(item))"
      ],
      "metadata": {
        "colab": {
          "base_uri": "https://localhost:8080/"
        },
        "id": "aOgtUVx4u_5f",
        "outputId": "44f4456c-c84e-49cf-eb94-23c190e400fe"
      },
      "execution_count": 59,
      "outputs": [
        {
          "output_type": "stream",
          "name": "stdout",
          "text": [
            "original id <class 'str'>\n",
            "original title <class 'str'>\n",
            "original price <class 'str'>\n",
            "original category <class 'str'>\n",
            "original url <class 'str'>\n",
            "original updated <class 'str'>\n",
            "sima-land.ru price <class 'str'>\n",
            "sima-land.ru updated <class 'str'>\n",
            "competitor shop <class 'str'>\n",
            "competitor price <class 'str'>\n"
          ]
        }
      ]
    },
    {
      "cell_type": "markdown",
      "source": [
        "Как видно по строке original price, цена скорретировалась (была изначально 1051), т.е, за счет того, что наша цена оказалась изначально ниже самой низкой цены конкурента, нам удалось поднять цену на товар на 48 коп."
      ],
      "metadata": {
        "id": "NSvJDSDl0CI8"
      }
    },
    {
      "cell_type": "markdown",
      "source": [
        "#Теперь сформируем xml файл"
      ],
      "metadata": {
        "id": "GpPNAETt41Pe"
      }
    },
    {
      "cell_type": "code",
      "source": [
        "def json2xml(json_obj, line_padding=\"\"):\n",
        "    result_list = list()\n",
        "\n",
        "    json_obj_type = type(json_obj)\n",
        "\n",
        "    if json_obj_type is list:\n",
        "        for sub_elem in json_obj:\n",
        "            result_list.append(json2xml(sub_elem, line_padding))\n",
        "\n",
        "        return \"\\n\".join(result_list)\n",
        "\n",
        "    if json_obj_type is dict:\n",
        "        for tag_name in json_obj:\n",
        "            sub_obj = json_obj[tag_name]\n",
        "            result_list.append(\"%s<%s>\" % (line_padding, tag_name))\n",
        "            result_list.append(json2xml(sub_obj, \"\\t\" + line_padding))\n",
        "            result_list.append(\"%s</%s>\" % (line_padding, tag_name))\n",
        "\n",
        "        return \"\\n\".join(result_list)\n",
        "\n",
        "    return \"%s%s\" % (line_padding, json_obj)"
      ],
      "metadata": {
        "id": "R_trWHXias3y"
      },
      "execution_count": 60,
      "outputs": []
    },
    {
      "cell_type": "code",
      "source": [
        "result = json2xml(data_json)\n",
        "print(result[:5000])"
      ],
      "metadata": {
        "colab": {
          "base_uri": "https://localhost:8080/"
        },
        "id": "OAjYBGHgj3Iq",
        "outputId": "cd90da3d-9bc4-4757-b0b5-114a0daf1007"
      },
      "execution_count": 61,
      "outputs": [
        {
          "output_type": "stream",
          "name": "stdout",
          "text": [
            "<items>\n",
            "\t<original id>\n",
            "\t\t2094028\n",
            "\t</original id>\n",
            "\t<original title>\n",
            "\t\t\"Cпасательный жилет \"\"Докер\"\" до 80 кг р.44-46\"\n",
            "\t</original title>\n",
            "\t<original price>\n",
            "\t\t3210\n",
            "\t</original price>\n",
            "\t<original category>\n",
            "\t\tСпасательные жилеты и круги\n",
            "\t</original category>\n",
            "\t<original url>\n",
            "\t\thttps://market.yandex.ru/product/843306581/offers?lr=213&sku=101192028615&how=aprice\n",
            "\t</original url>\n",
            "\t<original updated>\n",
            "\t\t2022-04-18 00:37:18\n",
            "\t</original updated>\n",
            "\t<sima-land.ru price>\n",
            "\t\t1955\n",
            "\t</sima-land.ru price>\n",
            "\t<sima-land.ru updated>\n",
            "\t\t2022-04-19 01:00:10\n",
            "\t</sima-land.ru updated>\n",
            "\t<competitor shop>\n",
            "\t\tVeloSmile\n",
            "\t</competitor shop>\n",
            "\t<competitor price>\n",
            "\t\t1799\n",
            "\t</competitor price>\n",
            "\t<original id>\n",
            "\t\t2094028\n",
            "\t</original id>\n",
            "\t<original title>\n",
            "\t\t\"Cпасательный жилет \"\"Докер\"\" до 80 кг р.44-46\"\n",
            "\t</original title>\n",
            "\t<original price>\n",
            "\t\t3210\n",
            "\t</original price>\n",
            "\t<original category>\n",
            "\t\tСпасательные жилеты и круги\n",
            "\t</original category>\n",
            "\t<original url>\n",
            "\t\thttps://market.yandex.ru/product/843306581/offers?lr=213&sku=101192028615&how=aprice\n",
            "\t</original url>\n",
            "\t<original updated>\n",
            "\t\t2022-04-18 00:37:18\n",
            "\t</original updated>\n",
            "\t<sima-land.ru price>\n",
            "\t\t1955\n",
            "\t</sima-land.ru price>\n",
            "\t<sima-land.ru updated>\n",
            "\t\t2022-04-19 01:00:10\n",
            "\t</sima-land.ru updated>\n",
            "\t<competitor shop>\n",
            "\t\tBE STRONG\n",
            "\t</competitor shop>\n",
            "\t<competitor price>\n",
            "\t\t2840\n",
            "\t</competitor price>\n",
            "\t<original id>\n",
            "\t\t2094028\n",
            "\t</original id>\n",
            "\t<original title>\n",
            "\t\t\"Cпасательный жилет \"\"Докер\"\" до 80 кг р.44-46\"\n",
            "\t</original title>\n",
            "\t<original price>\n",
            "\t\t3210\n",
            "\t</original price>\n",
            "\t<original category>\n",
            "\t\tСпасательные жилеты и круги\n",
            "\t</original category>\n",
            "\t<original url>\n",
            "\t\thttps://market.yandex.ru/product/843306581/offers?lr=213&sku=101192028615&how=aprice\n",
            "\t</original url>\n",
            "\t<original updated>\n",
            "\t\t2022-04-18 00:37:18\n",
            "\t</original updated>\n",
            "\t<sima-land.ru price>\n",
            "\t\t1955\n",
            "\t</sima-land.ru price>\n",
            "\t<sima-land.ru updated>\n",
            "\t\t2022-04-19 01:00:10\n",
            "\t</sima-land.ru updated>\n",
            "\t<competitor shop>\n",
            "\t\tQwen\n",
            "\t</competitor shop>\n",
            "\t<competitor price>\n",
            "\t\t3457\n",
            "\t</competitor price>\n",
            "\t<original id>\n",
            "\t\t7336848\n",
            "\t</original id>\n",
            "\t<original title>\n",
            "\t\t100 наклеек альбом \"Путешествие Синего трактора\", Синий трактор\n",
            "\t</original title>\n",
            "\t<original price>\n",
            "\t\t289\n",
            "\t</original price>\n",
            "\t<original category>\n",
            "\t\tНаклейки для творчества\n",
            "\t</original category>\n",
            "\t<original url>\n",
            "\t\thttps://market.yandex.ru/product/1736197842/offers?lr=213&sku=101643697857&how=aprice\n",
            "\t</original url>\n",
            "\t<original updated>\n",
            "\t\t2022-04-18 00:37:18\n",
            "\t</original updated>\n",
            "\t<sima-land.ru price>\n",
            "\t\t69\n",
            "\t</sima-land.ru price>\n",
            "\t<sima-land.ru updated>\n",
            "\t\t2022-04-19 01:00:11\n",
            "\t</sima-land.ru updated>\n",
            "\t<competitor shop>\n",
            "\t\tToys Market\n",
            "\t</competitor shop>\n",
            "\t<competitor price>\n",
            "\t\t176\n",
            "\t</competitor price>\n",
            "\t<original id>\n",
            "\t\t7336848\n",
            "\t</original id>\n",
            "\t<original title>\n",
            "\t\t100 наклеек альбом \"Путешествие Синего трактора\", Синий трактор\n",
            "\t</original title>\n",
            "\t<original price>\n",
            "\t\t289\n",
            "\t</original price>\n",
            "\t<original category>\n",
            "\t\tНаклейки для творчества\n",
            "\t</original category>\n",
            "\t<original url>\n",
            "\t\thttps://market.yandex.ru/product/1736197842/offers?lr=213&sku=101643697857&how=aprice\n",
            "\t</original url>\n",
            "\t<original updated>\n",
            "\t\t2022-04-18 00:37:18\n",
            "\t</original updated>\n",
            "\t<sima-land.ru price>\n",
            "\t\t69\n",
            "\t</sima-land.ru price>\n",
            "\t<sima-land.ru updated>\n",
            "\t\t2022-04-19 01:00:11\n",
            "\t</sima-land.ru updated>\n",
            "\t<competitor shop>\n",
            "\t\tGorodOk\n",
            "\t</competitor shop>\n",
            "\t<competitor price>\n",
            "\t\t311\n",
            "\t</competitor price>\n",
            "\t<original id>\n",
            "\t\t7336848\n",
            "\t</original id>\n",
            "\t<original title>\n",
            "\t\t100 наклеек альбом \"Путешествие Синего трактора\", Синий трактор\n",
            "\t</original title>\n",
            "\t<original price>\n",
            "\t\t289\n",
            "\t</original price>\n",
            "\t<original category>\n",
            "\t\tНаклейки для творчества\n",
            "\t</original category>\n",
            "\t<original url>\n",
            "\t\thttps://market.yandex.ru/product/1736197842/offers?lr=213&sku=101643697857&how=aprice\n",
            "\t</original url>\n",
            "\t<original updated>\n",
            "\t\t2022-04-18 00:37:18\n",
            "\t</original updated>\n",
            "\t<sima-land.ru price>\n",
            "\t\t69\n",
            "\t</sima-land.ru price>\n",
            "\t<sima-land.ru updated>\n",
            "\t\t2022-04-19 01:00:11\n",
            "\t</sima-land.ru updated>\n",
            "\t<competitor shop>\n",
            "\t\tMindSpace\n",
            "\t</competitor shop>\n",
            "\t<competitor price>\n",
            "\t\t338\n",
            "\t</competitor price>\n",
            "\t<original id>\n",
            "\t\t7517061\n",
            "\t</original id>\n",
            "\t<original title>\n",
            "\t\t100 секретных окошек \"Транспорт\n",
            "\t</original title>\n",
            "\t<original price>\n",
            "\t\t1051.48\n",
            "\t</original price>\n",
            "\t<original category>\n",
            "\t\tИгрушечные машинки и техника\n",
            "\t</original category>\n",
            "\t<original url>\n",
            "\t\thttps://market.yandex.ru/product/1699704981/offers?lr=213&sku=101625914255&how=aprice\n",
            "\t</original url>\n",
            "\t<original updated>\n",
            "\t\t2022-04-18 00:37:18\n",
            "\t</original updated>\n",
            "\t<sima-land.ru price>\n",
            "\t\t518\n",
            "\t</sima-land.ru price>\n",
            "\t<sima-land.ru updated>\n",
            "\t\t2022-04-19 01:00:11\n",
            "\t</sima-land.ru updated>\n",
            "\t<competitor shop>\n",
            "\t\tQwen\n",
            "\t</competitor shop>\n",
            "\t<competitor price>\n",
            "\t\t1084\n",
            "\t</competitor price>\n",
            "\t<original id>\n",
            "\t\t7517061\n",
            "\t</original id>\n",
            "\t<original title>\n",
            "\t\t100 секретных окошек \"Транспорт\n",
            "\t</original title>\n",
            "\t<original price>\n",
            "\t\t1051.48\n",
            "\t</original price>\n",
            "\t<original category>\n",
            "\t\tИгрушечные машинки и техника\n",
            "\t</original category>\n",
            "\t<original url>\n",
            "\t\thttps://market.yandex.ru/product/1699704981/offers?lr=213&sku=101625914255&how=aprice\n",
            "\t</original url>\n",
            "\t<original updated>\n",
            "\t\t2022-04-18 00:37:18\n",
            "\t</original updated>\n",
            "\t<sima-land.ru price\n"
          ]
        }
      ]
    },
    {
      "cell_type": "code",
      "source": [
        "print(result[-150:])"
      ],
      "metadata": {
        "colab": {
          "base_uri": "https://localhost:8080/"
        },
        "id": "aS7lq2S0wB3p",
        "outputId": "f36ed7ac-dc04-49fc-d9cd-4709de30eb5f"
      },
      "execution_count": 62,
      "outputs": [
        {
          "output_type": "stream",
          "name": "stdout",
          "text": [
            "ed>\n",
            "\t<competitor shop>\n",
            "\t\tkv.mart\n",
            "\t</competitor shop>\n",
            "\t<competitor price>\n",
            "\t\t319\n",
            "\t</competitor price>\n",
            "</items>\n",
            "<updated>\n",
            "\t2022-04-20 06:00:08\n",
            "</updated>\n"
          ]
        }
      ]
    },
    {
      "cell_type": "code",
      "source": [
        "for i in data_json:\n",
        "  print(i)"
      ],
      "metadata": {
        "colab": {
          "base_uri": "https://localhost:8080/"
        },
        "id": "VUk-oUWbv7In",
        "outputId": "0627b448-c1fb-40b4-c0c2-7c8e5115dab7"
      },
      "execution_count": 36,
      "outputs": [
        {
          "output_type": "stream",
          "name": "stdout",
          "text": [
            "items\n",
            "updated\n"
          ]
        }
      ]
    },
    {
      "cell_type": "code",
      "source": [
        "data_json['updated']"
      ],
      "metadata": {
        "colab": {
          "base_uri": "https://localhost:8080/",
          "height": 35
        },
        "id": "klfJ408ByexP",
        "outputId": "b58d2c4c-acb3-4f18-9628-a72dc3b8ad35"
      },
      "execution_count": 45,
      "outputs": [
        {
          "output_type": "execute_result",
          "data": {
            "text/plain": [
              "'2022-04-20 06:00:08'"
            ],
            "application/vnd.google.colaboratory.intrinsic+json": {
              "type": "string"
            }
          },
          "metadata": {},
          "execution_count": 45
        }
      ]
    },
    {
      "cell_type": "code",
      "source": [
        "import xml.etree.cElementTree as ET"
      ],
      "metadata": {
        "id": "EO_nX5XGy2_u"
      },
      "execution_count": 63,
      "outputs": []
    },
    {
      "cell_type": "code",
      "source": [
        "root = ET.Element('root')\n",
        "\n",
        "#ET.SubElement(root, 'items').text = data_json['items']\n",
        "\n",
        "items = ET.SubElement(root, \"items\")\n",
        "\n",
        "for i in data_json['items']:\n",
        "\n",
        "  ET.SubElement(items, 'original id').text = i['original id']\n",
        "  ET.SubElement(items, 'original title').text = i['original title']\n",
        "  ET.SubElement(items, 'original price').text = str(i['original price'])\n",
        "  ET.SubElement(items, 'original category').text = i['original category']\n",
        "  ET.SubElement(items, 'original url').text = i['original url']\n",
        "  ET.SubElement(items, 'original updated').text = i['original updated']\n",
        "  ET.SubElement(items, 'sima-land.ru price').text = str(i['sima-land.ru price'])\n",
        "  ET.SubElement(items, 'sima-land.ru updated').text = i['sima-land.ru updated']\n",
        "  ET.SubElement(items, 'competitor shop').text = i['competitor shop']\n",
        "  ET.SubElement(items, 'competitor price').text = str(i['competitor price'])\n",
        "\n",
        "updated = ET.SubElement(root, \"updated\").text = data_json['updated']\n",
        "\n",
        "tree = ET.ElementTree(root)\n",
        "tree.write('yafbs_prices_updated1.xml')\n"
      ],
      "metadata": {
        "id": "F-DSx7NS5Caj"
      },
      "execution_count": 66,
      "outputs": []
    },
    {
      "cell_type": "code",
      "source": [
        "type(tree)\n"
      ],
      "metadata": {
        "colab": {
          "base_uri": "https://localhost:8080/"
        },
        "id": "ZjlQuB7b9JM1",
        "outputId": "65caa5d0-4e55-4837-e013-23cc31036c00"
      },
      "execution_count": 67,
      "outputs": [
        {
          "output_type": "execute_result",
          "data": {
            "text/plain": [
              "xml.etree.ElementTree.ElementTree"
            ]
          },
          "metadata": {},
          "execution_count": 67
        }
      ]
    },
    {
      "cell_type": "code",
      "source": [
        "import xml.etree.ElementTree as ET\n",
        "from xml.etree.ElementTree import tostring\n",
        "tree=ET.parse('yafbs_prices_updated1.xml')\n",
        "tree = tree.getroot()\n",
        "t = tostring(tree)\n",
        "t = t.lower()\n",
        "tree= ET.fromstring(t)"
      ],
      "metadata": {
        "colab": {
          "base_uri": "https://localhost:8080/",
          "height": 96
        },
        "id": "QMtIa_too3Z2",
        "outputId": "3fa1113d-676e-479f-b38c-b9c61f2bfb8e"
      },
      "execution_count": 68,
      "outputs": [
        {
          "output_type": "error",
          "ename": "ParseError",
          "evalue": "ignored",
          "traceback": [
            "\u001b[0;36m  File \u001b[0;32m\"<string>\"\u001b[0;36m, line \u001b[0;32munknown\u001b[0m\n\u001b[0;31mParseError\u001b[0m\u001b[0;31m:\u001b[0m not well-formed (invalid token): line 1, column 25\n"
          ]
        }
      ]
    },
    {
      "cell_type": "code",
      "source": [
        "with open(\"yafbs_prices_updated.xml\", \"w\") as f:\n",
        "    f.write(ET.tostring(tree))"
      ],
      "metadata": {
        "colab": {
          "base_uri": "https://localhost:8080/",
          "height": 328
        },
        "id": "WQn_3E6gojf3",
        "outputId": "6cbbe7b4-5032-4c12-a6fe-3e4da73d65bd"
      },
      "execution_count": 61,
      "outputs": [
        {
          "output_type": "error",
          "ename": "AttributeError",
          "evalue": "ignored",
          "traceback": [
            "\u001b[0;31m---------------------------------------------------------------------------\u001b[0m",
            "\u001b[0;31mAttributeError\u001b[0m                            Traceback (most recent call last)",
            "\u001b[0;32m<ipython-input-61-7a1030f544c7>\u001b[0m in \u001b[0;36m<module>\u001b[0;34m()\u001b[0m\n\u001b[1;32m      1\u001b[0m \u001b[0;32mwith\u001b[0m \u001b[0mopen\u001b[0m\u001b[0;34m(\u001b[0m\u001b[0;34m\"yafbs_prices_updated.xml\"\u001b[0m\u001b[0;34m,\u001b[0m \u001b[0;34m\"w\"\u001b[0m\u001b[0;34m)\u001b[0m \u001b[0;32mas\u001b[0m \u001b[0mf\u001b[0m\u001b[0;34m:\u001b[0m\u001b[0;34m\u001b[0m\u001b[0;34m\u001b[0m\u001b[0m\n\u001b[0;32m----> 2\u001b[0;31m     \u001b[0mf\u001b[0m\u001b[0;34m.\u001b[0m\u001b[0mwrite\u001b[0m\u001b[0;34m(\u001b[0m\u001b[0mET\u001b[0m\u001b[0;34m.\u001b[0m\u001b[0mtostring\u001b[0m\u001b[0;34m(\u001b[0m\u001b[0mtree\u001b[0m\u001b[0;34m)\u001b[0m\u001b[0;34m)\u001b[0m\u001b[0;34m\u001b[0m\u001b[0;34m\u001b[0m\u001b[0m\n\u001b[0m",
            "\u001b[0;32m/usr/lib/python3.7/xml/etree/ElementTree.py\u001b[0m in \u001b[0;36mtostring\u001b[0;34m(element, encoding, method, short_empty_elements)\u001b[0m\n\u001b[1;32m   1134\u001b[0m     \u001b[0mstream\u001b[0m \u001b[0;34m=\u001b[0m \u001b[0mio\u001b[0m\u001b[0;34m.\u001b[0m\u001b[0mStringIO\u001b[0m\u001b[0;34m(\u001b[0m\u001b[0;34m)\u001b[0m \u001b[0;32mif\u001b[0m \u001b[0mencoding\u001b[0m \u001b[0;34m==\u001b[0m \u001b[0;34m'unicode'\u001b[0m \u001b[0;32melse\u001b[0m \u001b[0mio\u001b[0m\u001b[0;34m.\u001b[0m\u001b[0mBytesIO\u001b[0m\u001b[0;34m(\u001b[0m\u001b[0;34m)\u001b[0m\u001b[0;34m\u001b[0m\u001b[0;34m\u001b[0m\u001b[0m\n\u001b[1;32m   1135\u001b[0m     ElementTree(element).write(stream, encoding, method=method,\n\u001b[0;32m-> 1136\u001b[0;31m                                short_empty_elements=short_empty_elements)\n\u001b[0m\u001b[1;32m   1137\u001b[0m     \u001b[0;32mreturn\u001b[0m \u001b[0mstream\u001b[0m\u001b[0;34m.\u001b[0m\u001b[0mgetvalue\u001b[0m\u001b[0;34m(\u001b[0m\u001b[0;34m)\u001b[0m\u001b[0;34m\u001b[0m\u001b[0;34m\u001b[0m\u001b[0m\n\u001b[1;32m   1138\u001b[0m \u001b[0;34m\u001b[0m\u001b[0m\n",
            "\u001b[0;32m/usr/lib/python3.7/xml/etree/ElementTree.py\u001b[0m in \u001b[0;36mwrite\u001b[0;34m(self, file_or_filename, encoding, xml_declaration, default_namespace, method, short_empty_elements)\u001b[0m\n\u001b[1;32m    775\u001b[0m                 \u001b[0mserialize\u001b[0m \u001b[0;34m=\u001b[0m \u001b[0m_serialize\u001b[0m\u001b[0;34m[\u001b[0m\u001b[0mmethod\u001b[0m\u001b[0;34m]\u001b[0m\u001b[0;34m\u001b[0m\u001b[0;34m\u001b[0m\u001b[0m\n\u001b[1;32m    776\u001b[0m                 serialize(write, self._root, qnames, namespaces,\n\u001b[0;32m--> 777\u001b[0;31m                           short_empty_elements=short_empty_elements)\n\u001b[0m\u001b[1;32m    778\u001b[0m \u001b[0;34m\u001b[0m\u001b[0m\n\u001b[1;32m    779\u001b[0m     \u001b[0;32mdef\u001b[0m \u001b[0mwrite_c14n\u001b[0m\u001b[0;34m(\u001b[0m\u001b[0mself\u001b[0m\u001b[0;34m,\u001b[0m \u001b[0mfile\u001b[0m\u001b[0;34m)\u001b[0m\u001b[0;34m:\u001b[0m\u001b[0;34m\u001b[0m\u001b[0;34m\u001b[0m\u001b[0m\n",
            "\u001b[0;32m/usr/lib/python3.7/xml/etree/ElementTree.py\u001b[0m in \u001b[0;36m_serialize_xml\u001b[0;34m(write, elem, qnames, namespaces, short_empty_elements, **kwargs)\u001b[0m\n\u001b[1;32m    899\u001b[0m def _serialize_xml(write, elem, qnames, namespaces,\n\u001b[1;32m    900\u001b[0m                    short_empty_elements, **kwargs):\n\u001b[0;32m--> 901\u001b[0;31m     \u001b[0mtag\u001b[0m \u001b[0;34m=\u001b[0m \u001b[0melem\u001b[0m\u001b[0;34m.\u001b[0m\u001b[0mtag\u001b[0m\u001b[0;34m\u001b[0m\u001b[0;34m\u001b[0m\u001b[0m\n\u001b[0m\u001b[1;32m    902\u001b[0m     \u001b[0mtext\u001b[0m \u001b[0;34m=\u001b[0m \u001b[0melem\u001b[0m\u001b[0;34m.\u001b[0m\u001b[0mtext\u001b[0m\u001b[0;34m\u001b[0m\u001b[0;34m\u001b[0m\u001b[0m\n\u001b[1;32m    903\u001b[0m     \u001b[0;32mif\u001b[0m \u001b[0mtag\u001b[0m \u001b[0;32mis\u001b[0m \u001b[0mComment\u001b[0m\u001b[0;34m:\u001b[0m\u001b[0;34m\u001b[0m\u001b[0;34m\u001b[0m\u001b[0m\n",
            "\u001b[0;31mAttributeError\u001b[0m: 'ElementTree' object has no attribute 'tag'"
          ]
        }
      ]
    },
    {
      "cell_type": "code",
      "source": [
        "import xml.etree.ElementTree as ET\n",
        " \n",
        "# Passing the path of the\n",
        "# xml document to enable the\n",
        "# parsing process\n",
        "tree = ET.parse('/content/yafbs_prices_updated.xml')\n",
        " \n",
        "# getting the parent tag of\n",
        "# the xml document\n",
        "root = tree.getroot()\n",
        " \n",
        "# printing the root (parent) tag\n",
        "# of the xml document, along with\n",
        "# its memory location\n",
        "print(root)\n",
        " \n",
        "# printing the attributes of the\n",
        "# first tag from the parent\n",
        "print(root[0].attrib)\n",
        " \n",
        "# printing the text contained within\n",
        "# first subtag of the 5th tag from\n",
        "# the parent\n",
        "print(root[5][0].text)"
      ],
      "metadata": {
        "colab": {
          "base_uri": "https://localhost:8080/",
          "height": 96
        },
        "id": "b35coVUlks_9",
        "outputId": "ebec92a9-834b-4303-a29f-9cc4880ba341"
      },
      "execution_count": 59,
      "outputs": [
        {
          "output_type": "error",
          "ename": "ParseError",
          "evalue": "ignored",
          "traceback": [
            "\u001b[0;36m  File \u001b[0;32m\"<string>\"\u001b[0;36m, line \u001b[0;32munknown\u001b[0m\n\u001b[0;31mParseError\u001b[0m\u001b[0;31m:\u001b[0m not well-formed (invalid token): line 1, column 27\n"
          ]
        }
      ]
    },
    {
      "cell_type": "code",
      "source": [
        ""
      ],
      "metadata": {
        "id": "5fTF_k4HnWln"
      },
      "execution_count": null,
      "outputs": []
    }
  ]
}